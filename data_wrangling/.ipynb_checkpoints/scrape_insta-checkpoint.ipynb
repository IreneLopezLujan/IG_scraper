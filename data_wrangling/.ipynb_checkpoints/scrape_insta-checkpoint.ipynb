{
 "cells": [
  {
   "cell_type": "code",
   "execution_count": 2,
   "metadata": {},
   "outputs": [
    {
     "name": "stdout",
     "output_type": "stream",
     "text": [
      "User: Selena Gomez (@selenagomez)\n",
      "Followers: 148.4m\n",
      "Following: 59\n",
      "Posts: 1,483\n",
      "---------------------------\n",
      "User: Cristiano Ronaldo (@cristiano)\n",
      "Followers: 161m\n",
      "Following: 428\n",
      "Posts: 2,514\n",
      "---------------------------\n",
      "User: Ariana Grande (@arianagrande)\n",
      "Followers: 150.6m\n",
      "Following: 763\n",
      "Posts: 4,078\n",
      "---------------------------\n",
      "User: Taylor Swift (@taylorswift)\n",
      "Followers: 115.9m\n",
      "Following: 0\n",
      "Posts: 276\n",
      "---------------------------\n",
      "User: 👻 neymarjr (@neymarjr)\n",
      "Followers: 113.2m\n",
      "Following: 982\n",
      "Posts: 4,424\n",
      "---------------------------\n",
      "User: Justin Bieber (@justinbieber)\n",
      "Followers: 108.4m\n",
      "Following: 155\n",
      "Posts: 4,425\n",
      "---------------------------\n"
     ]
    }
   ],
   "source": [
    "#!/usr/bin/python\n",
    "# -*- coding: utf-8 -*-\n",
    "import requests\n",
    "import urllib.request\n",
    "import urllib.parse\n",
    "import urllib.error\n",
    "from bs4 import BeautifulSoup\n",
    "import ssl\n",
    "import json\n",
    "\n",
    "\n",
    "\n",
    "class Insta_Info_Scraper:\n",
    "\n",
    "    def getinfo(self, url):\n",
    "        html = urllib.request.urlopen(url, context=self.ctx).read()\n",
    "        soup = BeautifulSoup(html, 'html.parser')\n",
    "        data = soup.find_all('meta', attrs={'property': 'og:description'\n",
    "                             })\n",
    "        text = data[0].get('content').split()\n",
    "        user = '%s %s %s' % (text[-3], text[-2], text[-1])\n",
    "        followers = text[0]\n",
    "        following = text[2]\n",
    "        posts = text[4]\n",
    "        print ('User:', user)\n",
    "        print ('Followers:', followers)\n",
    "        print ('Following:', following)\n",
    "        print ('Posts:', posts)\n",
    "        print ('---------------------------')\n",
    "\n",
    "    def main(self):\n",
    "        self.ctx = ssl.create_default_context()\n",
    "        self.ctx.check_hostname = False\n",
    "        self.ctx.verify_mode = ssl.CERT_NONE\n",
    "\n",
    "        with open('../../resources/users.txt') as f:\n",
    "            self.content = f.readlines()\n",
    "        self.content = [x.strip() for x in self.content]\n",
    "        for url in self.content:\n",
    "            self.getinfo(url)\n",
    "\n",
    "\n",
    "if __name__ == '__main__':\n",
    "    obj = Insta_Info_Scraper()\n",
    "    obj.main()"
   ]
  },
  {
   "cell_type": "code",
   "execution_count": 9,
   "metadata": {},
   "outputs": [
    {
     "name": "stdout",
     "output_type": "stream",
     "text": [
      "ID, CREATED_TIME, LATITUDE, LONGITUDE, INSTAGRAM URL, PHOTO URL\n"
     ]
    },
    {
     "ename": "AttributeError",
     "evalue": "module 'urllib' has no attribute 'urlopen'",
     "output_type": "error",
     "traceback": [
      "\u001b[0;31m---------------------------------------------------------------------------\u001b[0m",
      "\u001b[0;31mAttributeError\u001b[0m                            Traceback (most recent call last)",
      "\u001b[0;32m<ipython-input-9-874e2a90c9c7>\u001b[0m in \u001b[0;36m<module>\u001b[0;34m()\u001b[0m\n\u001b[1;32m     15\u001b[0m \u001b[0;34m\u001b[0m\u001b[0m\n\u001b[1;32m     16\u001b[0m \u001b[0;32mwhile\u001b[0m\u001b[0;34m(\u001b[0m\u001b[0mcreatedate\u001b[0m \u001b[0;34m>\u001b[0m \u001b[0mearliestprint\u001b[0m\u001b[0;34m)\u001b[0m\u001b[0;34m:\u001b[0m\u001b[0;34m\u001b[0m\u001b[0m\n\u001b[0;32m---> 17\u001b[0;31m         \u001b[0mapiout\u001b[0m \u001b[0;34m=\u001b[0m \u001b[0murllib\u001b[0m\u001b[0;34m.\u001b[0m\u001b[0murlopen\u001b[0m\u001b[0;34m(\u001b[0m\u001b[0;34m\"https://api.instagram.com/v1/tags/\"\u001b[0m \u001b[0;34m+\u001b[0m \u001b[0mtagname\u001b[0m \u001b[0;34m+\u001b[0m \u001b[0;34m\"/media/recent?max_id=\"\u001b[0m \u001b[0;34m+\u001b[0m \u001b[0mmax_id\u001b[0m \u001b[0;34m+\u001b[0m \u001b[0;34m\"&access_token=\"\u001b[0m \u001b[0;34m+\u001b[0m \u001b[0maccess_token\u001b[0m\u001b[0;34m)\u001b[0m\u001b[0;34m.\u001b[0m\u001b[0mread\u001b[0m\u001b[0;34m(\u001b[0m\u001b[0;34m)\u001b[0m\u001b[0;34m\u001b[0m\u001b[0m\n\u001b[0m\u001b[1;32m     18\u001b[0m \u001b[0;34m\u001b[0m\u001b[0m\n\u001b[1;32m     19\u001b[0m         \u001b[0mphotopage\u001b[0m \u001b[0;34m=\u001b[0m \u001b[0;32mNone\u001b[0m\u001b[0;34m\u001b[0m\u001b[0m\n",
      "\u001b[0;31mAttributeError\u001b[0m: module 'urllib' has no attribute 'urlopen'"
     ]
    }
   ],
   "source": []
  },
  {
   "cell_type": "code",
   "execution_count": null,
   "metadata": {},
   "outputs": [],
   "source": []
  }
 ],
 "metadata": {
  "kernelspec": {
   "display_name": "Python 3",
   "language": "python",
   "name": "python3"
  },
  "language_info": {
   "codemirror_mode": {
    "name": "ipython",
    "version": 3
   },
   "file_extension": ".py",
   "mimetype": "text/x-python",
   "name": "python",
   "nbconvert_exporter": "python",
   "pygments_lexer": "ipython3",
   "version": "3.6.4"
  }
 },
 "nbformat": 4,
 "nbformat_minor": 2
}
